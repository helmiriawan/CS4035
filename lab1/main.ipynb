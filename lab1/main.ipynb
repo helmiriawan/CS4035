{
 "cells": [
  {
   "cell_type": "markdown",
   "metadata": {},
   "source": [
    "# Setup"
   ]
  },
  {
   "cell_type": "code",
   "execution_count": 1,
   "metadata": {},
   "outputs": [],
   "source": [
    "# Import library\n",
    "import os\n",
    "import warnings\n",
    "import pandas as pd\n",
    "\n",
    "import function.visualization as vis\n",
    "import function.imbalance as imb\n",
    "import function.classification as cls\n",
    "\n",
    "from sklearn import tree\n",
    "from subprocess import check_call\n",
    "\n",
    "from sklearn.model_selection import train_test_split\n",
    "\n",
    "from sklearn.neighbors import KNeighborsClassifier\n",
    "from sklearn.linear_model import LogisticRegression\n",
    "\n",
    "from imblearn.over_sampling import SMOTE\n",
    "\n",
    "warnings.filterwarnings('ignore')"
   ]
  },
  {
   "cell_type": "code",
   "execution_count": 2,
   "metadata": {},
   "outputs": [],
   "source": [
    "# Set directory\n",
    "input_file = \"data_set/data_for_student_case.csv\"\n",
    "figure_directory = \"figure/\"\n",
    "dot_file = figure_directory + \"tree.dot\"\n",
    "figure_white_box = figure_directory + \"tree.png\"\n",
    "\n",
    "# Create figure directory\n",
    "if not os.path.exists(figure_directory):\n",
    "    print('Creating directory for figures...')\n",
    "    os.makedirs(figure_directory)"
   ]
  },
  {
   "cell_type": "markdown",
   "metadata": {},
   "source": [
    "# Data Understanding"
   ]
  },
  {
   "cell_type": "code",
   "execution_count": 3,
   "metadata": {},
   "outputs": [],
   "source": [
    "# Load input data\n",
    "data_set = pd.read_csv(input_file)"
   ]
  },
  {
   "cell_type": "code",
   "execution_count": 4,
   "metadata": {},
   "outputs": [
    {
     "name": "stdout",
     "output_type": "stream",
     "text": [
      "Number of rows\t\t: 290382\n",
      "Number of columns\t: 17\n"
     ]
    }
   ],
   "source": [
    "# Show number of rows and columns\n",
    "print(\"Number of rows\\t\\t: {}\".format(data_set.shape[0]))\n",
    "print(\"Number of columns\\t: {}\".format(data_set.shape[1]))\n",
    "#data_set.shape"
   ]
  },
  {
   "cell_type": "code",
   "execution_count": 5,
   "metadata": {},
   "outputs": [
    {
     "name": "stdout",
     "output_type": "stream",
     "text": [
      "<class 'pandas.core.frame.DataFrame'>\n",
      "RangeIndex: 290382 entries, 0 to 290381\n",
      "Data columns (total 17 columns):\n",
      "txid                            290382 non-null int64\n",
      "bookingdate                     290382 non-null object\n",
      "issuercountrycode               289889 non-null object\n",
      "txvariantcode                   290382 non-null object\n",
      "bin                             290242 non-null float64\n",
      "amount                          290382 non-null float64\n",
      "currencycode                    290382 non-null object\n",
      "shoppercountrycode              289900 non-null object\n",
      "shopperinteraction              290382 non-null object\n",
      "simple_journal                  290382 non-null object\n",
      "cardverificationcodesupplied    275665 non-null object\n",
      "cvcresponsecode                 290382 non-null int64\n",
      "creationdate                    290382 non-null object\n",
      "accountcode                     290382 non-null object\n",
      "mail_id                         290382 non-null object\n",
      "ip_id                           290382 non-null object\n",
      "card_id                         290382 non-null object\n",
      "dtypes: float64(2), int64(2), object(13)\n",
      "memory usage: 37.7+ MB\n"
     ]
    }
   ],
   "source": [
    "# Show further information\n",
    "data_set.info()"
   ]
  },
  {
   "cell_type": "code",
   "execution_count": 6,
   "metadata": {},
   "outputs": [
    {
     "data": {
      "text/html": [
       "<div>\n",
       "<style scoped>\n",
       "    .dataframe tbody tr th:only-of-type {\n",
       "        vertical-align: middle;\n",
       "    }\n",
       "\n",
       "    .dataframe tbody tr th {\n",
       "        vertical-align: top;\n",
       "    }\n",
       "\n",
       "    .dataframe thead th {\n",
       "        text-align: right;\n",
       "    }\n",
       "</style>\n",
       "<table border=\"1\" class=\"dataframe\">\n",
       "  <thead>\n",
       "    <tr style=\"text-align: right;\">\n",
       "      <th></th>\n",
       "      <th>txid</th>\n",
       "      <th>bookingdate</th>\n",
       "      <th>issuercountrycode</th>\n",
       "      <th>txvariantcode</th>\n",
       "      <th>bin</th>\n",
       "      <th>amount</th>\n",
       "      <th>currencycode</th>\n",
       "      <th>shoppercountrycode</th>\n",
       "      <th>shopperinteraction</th>\n",
       "      <th>simple_journal</th>\n",
       "      <th>cardverificationcodesupplied</th>\n",
       "      <th>cvcresponsecode</th>\n",
       "      <th>creationdate</th>\n",
       "      <th>accountcode</th>\n",
       "      <th>mail_id</th>\n",
       "      <th>ip_id</th>\n",
       "      <th>card_id</th>\n",
       "    </tr>\n",
       "  </thead>\n",
       "  <tbody>\n",
       "    <tr>\n",
       "      <th>0</th>\n",
       "      <td>1</td>\n",
       "      <td>2015-11-09 14:26:51</td>\n",
       "      <td>MX</td>\n",
       "      <td>mccredit</td>\n",
       "      <td>530056.0</td>\n",
       "      <td>64800.0</td>\n",
       "      <td>MXN</td>\n",
       "      <td>MX</td>\n",
       "      <td>Ecommerce</td>\n",
       "      <td>Chargeback</td>\n",
       "      <td>True</td>\n",
       "      <td>0</td>\n",
       "      <td>2015-07-01 23:03:11</td>\n",
       "      <td>MexicoAccount</td>\n",
       "      <td>email68370</td>\n",
       "      <td>ip111778</td>\n",
       "      <td>card184798</td>\n",
       "    </tr>\n",
       "    <tr>\n",
       "      <th>1</th>\n",
       "      <td>2</td>\n",
       "      <td>2015-11-09 14:27:38</td>\n",
       "      <td>MX</td>\n",
       "      <td>mccredit</td>\n",
       "      <td>547046.0</td>\n",
       "      <td>44900.0</td>\n",
       "      <td>MXN</td>\n",
       "      <td>MX</td>\n",
       "      <td>Ecommerce</td>\n",
       "      <td>Chargeback</td>\n",
       "      <td>True</td>\n",
       "      <td>0</td>\n",
       "      <td>2015-07-02 04:50:55</td>\n",
       "      <td>MexicoAccount</td>\n",
       "      <td>email101299</td>\n",
       "      <td>ip78749</td>\n",
       "      <td>card151595</td>\n",
       "    </tr>\n",
       "    <tr>\n",
       "      <th>2</th>\n",
       "      <td>3</td>\n",
       "      <td>2015-11-23 16:34:16</td>\n",
       "      <td>MX</td>\n",
       "      <td>mccredit</td>\n",
       "      <td>528843.0</td>\n",
       "      <td>149900.0</td>\n",
       "      <td>MXN</td>\n",
       "      <td>MX</td>\n",
       "      <td>Ecommerce</td>\n",
       "      <td>Chargeback</td>\n",
       "      <td>True</td>\n",
       "      <td>0</td>\n",
       "      <td>2015-07-02 14:30:28</td>\n",
       "      <td>MexicoAccount</td>\n",
       "      <td>email278604</td>\n",
       "      <td>ip70594</td>\n",
       "      <td>card242142</td>\n",
       "    </tr>\n",
       "    <tr>\n",
       "      <th>3</th>\n",
       "      <td>4</td>\n",
       "      <td>2015-11-23 16:34:51</td>\n",
       "      <td>MX</td>\n",
       "      <td>mccredit</td>\n",
       "      <td>547146.0</td>\n",
       "      <td>109900.0</td>\n",
       "      <td>MXN</td>\n",
       "      <td>MX</td>\n",
       "      <td>Ecommerce</td>\n",
       "      <td>Chargeback</td>\n",
       "      <td>True</td>\n",
       "      <td>0</td>\n",
       "      <td>2015-07-03 07:53:37</td>\n",
       "      <td>MexicoAccount</td>\n",
       "      <td>email47409</td>\n",
       "      <td>ip113648</td>\n",
       "      <td>card181744</td>\n",
       "    </tr>\n",
       "    <tr>\n",
       "      <th>4</th>\n",
       "      <td>5</td>\n",
       "      <td>2015-11-09 14:26:08</td>\n",
       "      <td>MX</td>\n",
       "      <td>visaclassic</td>\n",
       "      <td>477291.0</td>\n",
       "      <td>89900.0</td>\n",
       "      <td>MXN</td>\n",
       "      <td>MX</td>\n",
       "      <td>Ecommerce</td>\n",
       "      <td>Chargeback</td>\n",
       "      <td>True</td>\n",
       "      <td>0</td>\n",
       "      <td>2015-07-08 18:35:35</td>\n",
       "      <td>MexicoAccount</td>\n",
       "      <td>email205501</td>\n",
       "      <td>ip83553</td>\n",
       "      <td>card97271</td>\n",
       "    </tr>\n",
       "  </tbody>\n",
       "</table>\n",
       "</div>"
      ],
      "text/plain": [
       "   txid          bookingdate issuercountrycode txvariantcode       bin  \\\n",
       "0     1  2015-11-09 14:26:51                MX      mccredit  530056.0   \n",
       "1     2  2015-11-09 14:27:38                MX      mccredit  547046.0   \n",
       "2     3  2015-11-23 16:34:16                MX      mccredit  528843.0   \n",
       "3     4  2015-11-23 16:34:51                MX      mccredit  547146.0   \n",
       "4     5  2015-11-09 14:26:08                MX   visaclassic  477291.0   \n",
       "\n",
       "     amount currencycode shoppercountrycode shopperinteraction simple_journal  \\\n",
       "0   64800.0          MXN                 MX          Ecommerce     Chargeback   \n",
       "1   44900.0          MXN                 MX          Ecommerce     Chargeback   \n",
       "2  149900.0          MXN                 MX          Ecommerce     Chargeback   \n",
       "3  109900.0          MXN                 MX          Ecommerce     Chargeback   \n",
       "4   89900.0          MXN                 MX          Ecommerce     Chargeback   \n",
       "\n",
       "  cardverificationcodesupplied  cvcresponsecode         creationdate  \\\n",
       "0                         True                0  2015-07-01 23:03:11   \n",
       "1                         True                0  2015-07-02 04:50:55   \n",
       "2                         True                0  2015-07-02 14:30:28   \n",
       "3                         True                0  2015-07-03 07:53:37   \n",
       "4                         True                0  2015-07-08 18:35:35   \n",
       "\n",
       "     accountcode      mail_id     ip_id     card_id  \n",
       "0  MexicoAccount   email68370  ip111778  card184798  \n",
       "1  MexicoAccount  email101299   ip78749  card151595  \n",
       "2  MexicoAccount  email278604   ip70594  card242142  \n",
       "3  MexicoAccount   email47409  ip113648  card181744  \n",
       "4  MexicoAccount  email205501   ip83553   card97271  "
      ]
     },
     "execution_count": 6,
     "metadata": {},
     "output_type": "execute_result"
    }
   ],
   "source": [
    "# Show sample records\n",
    "data_set.head()"
   ]
  },
  {
   "cell_type": "code",
   "execution_count": 7,
   "metadata": {},
   "outputs": [
    {
     "data": {
      "text/html": [
       "<div>\n",
       "<style scoped>\n",
       "    .dataframe tbody tr th:only-of-type {\n",
       "        vertical-align: middle;\n",
       "    }\n",
       "\n",
       "    .dataframe tbody tr th {\n",
       "        vertical-align: top;\n",
       "    }\n",
       "\n",
       "    .dataframe thead th {\n",
       "        text-align: right;\n",
       "    }\n",
       "</style>\n",
       "<table border=\"1\" class=\"dataframe\">\n",
       "  <thead>\n",
       "    <tr style=\"text-align: right;\">\n",
       "      <th></th>\n",
       "      <th>txid</th>\n",
       "      <th>bin</th>\n",
       "      <th>amount</th>\n",
       "      <th>cvcresponsecode</th>\n",
       "    </tr>\n",
       "  </thead>\n",
       "  <tbody>\n",
       "    <tr>\n",
       "      <th>count</th>\n",
       "      <td>290382.000000</td>\n",
       "      <td>290242.000000</td>\n",
       "      <td>2.903820e+05</td>\n",
       "      <td>290382.000000</td>\n",
       "    </tr>\n",
       "    <tr>\n",
       "      <th>mean</th>\n",
       "      <td>279916.750673</td>\n",
       "      <td>485254.586238</td>\n",
       "      <td>2.936462e+04</td>\n",
       "      <td>0.769004</td>\n",
       "    </tr>\n",
       "    <tr>\n",
       "      <th>std</th>\n",
       "      <td>138437.214796</td>\n",
       "      <td>37015.528140</td>\n",
       "      <td>6.829927e+04</td>\n",
       "      <td>0.508933</td>\n",
       "    </tr>\n",
       "    <tr>\n",
       "      <th>min</th>\n",
       "      <td>1.000000</td>\n",
       "      <td>400000.000000</td>\n",
       "      <td>5.000000e+01</td>\n",
       "      <td>0.000000</td>\n",
       "    </tr>\n",
       "    <tr>\n",
       "      <th>25%</th>\n",
       "      <td>218232.250000</td>\n",
       "      <td>462239.000000</td>\n",
       "      <td>4.400000e+03</td>\n",
       "      <td>0.000000</td>\n",
       "    </tr>\n",
       "    <tr>\n",
       "      <th>50%</th>\n",
       "      <td>304071.500000</td>\n",
       "      <td>475139.000000</td>\n",
       "      <td>7.095000e+03</td>\n",
       "      <td>1.000000</td>\n",
       "    </tr>\n",
       "    <tr>\n",
       "      <th>75%</th>\n",
       "      <td>387592.750000</td>\n",
       "      <td>518652.000000</td>\n",
       "      <td>1.589500e+04</td>\n",
       "      <td>1.000000</td>\n",
       "    </tr>\n",
       "    <tr>\n",
       "      <th>max</th>\n",
       "      <td>482734.000000</td>\n",
       "      <td>676883.000000</td>\n",
       "      <td>2.785840e+06</td>\n",
       "      <td>5.000000</td>\n",
       "    </tr>\n",
       "  </tbody>\n",
       "</table>\n",
       "</div>"
      ],
      "text/plain": [
       "                txid            bin        amount  cvcresponsecode\n",
       "count  290382.000000  290242.000000  2.903820e+05    290382.000000\n",
       "mean   279916.750673  485254.586238  2.936462e+04         0.769004\n",
       "std    138437.214796   37015.528140  6.829927e+04         0.508933\n",
       "min         1.000000  400000.000000  5.000000e+01         0.000000\n",
       "25%    218232.250000  462239.000000  4.400000e+03         0.000000\n",
       "50%    304071.500000  475139.000000  7.095000e+03         1.000000\n",
       "75%    387592.750000  518652.000000  1.589500e+04         1.000000\n",
       "max    482734.000000  676883.000000  2.785840e+06         5.000000"
      ]
     },
     "execution_count": 7,
     "metadata": {},
     "output_type": "execute_result"
    }
   ],
   "source": [
    "# Generate descrpitive statistics\n",
    "data_set.describe()"
   ]
  },
  {
   "cell_type": "markdown",
   "metadata": {},
   "source": [
    "# Data Pre-processing"
   ]
  },
  {
   "cell_type": "code",
   "execution_count": 8,
   "metadata": {},
   "outputs": [],
   "source": [
    "# Clean the data\n",
    "data_set = data_set.dropna()\n",
    "data_set = data_set[data_set.simple_journal != \"Refused\"]"
   ]
  },
  {
   "cell_type": "code",
   "execution_count": 9,
   "metadata": {},
   "outputs": [],
   "source": [
    "# Change data type\n",
    "for column in ['bookingdate', 'creationdate']:\n",
    "    data_set[column] = pd.to_datetime(data_set.bookingdate, format='%Y-%m-%d %H:%M:%S', \n",
    "                                      errors='coerce')\n",
    "\n",
    "for column in ['issuercountrycode', 'txvariantcode', 'currencycode', 'shoppercountrycode', \n",
    "               'shopperinteraction', 'cardverificationcodesupplied', 'cvcresponsecode', \n",
    "               'accountcode']:\n",
    "    data_set[column] = data_set[column].astype('category')"
   ]
  },
  {
   "cell_type": "code",
   "execution_count": 10,
   "metadata": {},
   "outputs": [
    {
     "name": "stdout",
     "output_type": "stream",
     "text": [
      "<class 'pandas.core.frame.DataFrame'>\n",
      "Int64Index: 223510 entries, 0 to 290381\n",
      "Data columns (total 17 columns):\n",
      "txid                            223510 non-null int64\n",
      "bookingdate                     223510 non-null datetime64[ns]\n",
      "issuercountrycode               223510 non-null category\n",
      "txvariantcode                   223510 non-null category\n",
      "bin                             223510 non-null float64\n",
      "amount                          223510 non-null float64\n",
      "currencycode                    223510 non-null category\n",
      "shoppercountrycode              223510 non-null category\n",
      "shopperinteraction              223510 non-null category\n",
      "simple_journal                  223510 non-null object\n",
      "cardverificationcodesupplied    223510 non-null category\n",
      "cvcresponsecode                 223510 non-null category\n",
      "creationdate                    223510 non-null datetime64[ns]\n",
      "accountcode                     223510 non-null category\n",
      "mail_id                         223510 non-null object\n",
      "ip_id                           223510 non-null object\n",
      "card_id                         223510 non-null object\n",
      "dtypes: category(8), datetime64[ns](2), float64(2), int64(1), object(4)\n",
      "memory usage: 19.0+ MB\n"
     ]
    }
   ],
   "source": [
    "# Check the result\n",
    "data_set.info()"
   ]
  },
  {
   "cell_type": "markdown",
   "metadata": {},
   "source": [
    "# Visualization Task"
   ]
  },
  {
   "cell_type": "code",
   "execution_count": 11,
   "metadata": {},
   "outputs": [
    {
     "data": {
      "image/png": "[encoded data removed]",
      "text/plain": [
       "<matplotlib.figure.Figure at 0x7f5e699e6f98>"
      ]
     },
     "metadata": {},
     "output_type": "display_data"
    },
    {
     "data": {
      "image/png": "[encoded data removed]",
      "text/plain": [
       "<matplotlib.figure.Figure at 0x7f5e701100b8>"
      ]
     },
     "metadata": {},
     "output_type": "display_data"
    }
   ],
   "source": [
    "# Visualize the data using heat map\n",
    "vis.heatmap(data_set, 'Chargeback', 'Issuer-Shopper Country Code of Chargeback Transactions',\n",
    "                      figure_directory + 'heatmap_chargeback.png')\n",
    "vis.heatmap(data_set, 'Settled', 'Issuer-Shopper Country Code of Settled Transactions',\n",
    "                      figure_directory + 'heatmap_settled.png')"
   ]
  },
  {
   "cell_type": "code",
   "execution_count": 12,
   "metadata": {},
   "outputs": [
    {
     "data": {
      "image/png": "[encoded data removed]",
      "text/plain": [
       "<matplotlib.figure.Figure at 0x7f5e9811e6d8>"
      ]
     },
     "metadata": {},
     "output_type": "display_data"
    }
   ],
   "source": [
    "# Visualize the data using box plot\n",
    "vis.boxplot(data_set, 'Amount Distribution of Chargeback and Settled Transactions',\n",
    "                      figure_directory + 'boxplot_amount.png')"
   ]
  },
  {
   "cell_type": "markdown",
   "metadata": {},
   "source": [
    "# Imbalance Task"
   ]
  },
  {
   "cell_type": "code",
   "execution_count": 13,
   "metadata": {},
   "outputs": [],
   "source": [
    "# Data preparation\n",
    "subset = data_set[['issuercountrycode', 'txvariantcode', 'amount', 'currencycode', \n",
    "                   'shoppercountrycode', 'shopperinteraction', 'cardverificationcodesupplied', \n",
    "                   'cvcresponsecode', 'accountcode', 'simple_journal']]\n",
    "\n",
    "subset.loc[subset.simple_journal == 'Chargeback', 'simple_journal'] = 1\n",
    "subset.loc[subset.simple_journal == 'Settled', 'simple_journal'] = 0\n",
    "subset['simple_journal'] = subset['simple_journal'].astype('int')"
   ]
  },
  {
   "cell_type": "code",
   "execution_count": 14,
   "metadata": {},
   "outputs": [],
   "source": [
    "import warnings\n",
    "warnings.filterwarnings('ignore')"
   ]
  },
  {
   "cell_type": "code",
   "execution_count": 15,
   "metadata": {},
   "outputs": [],
   "source": [
    "# Determine label and input feature\n",
    "label = subset.simple_journal\n",
    "\n",
    "feature = subset.drop('simple_journal', axis=1)\n",
    "feature = pd.get_dummies(feature)"
   ]
  },
  {
   "cell_type": "code",
   "execution_count": 16,
   "metadata": {},
   "outputs": [],
   "source": [
    "# Split training and test set\n",
    "feature_train, feature_test, label_train, label_test = train_test_split(feature, \n",
    "                                                                        label, \n",
    "                                                                        test_size=0.5,\n",
    "                                                                        random_state=42, \n",
    "                                                                        stratify=label)"
   ]
  },
  {
   "cell_type": "code",
   "execution_count": 17,
   "metadata": {},
   "outputs": [],
   "source": [
    "# Perform oversampling using SMOTE\n",
    "oversampling = SMOTE(ratio=float(0.5), random_state=42)\n",
    "feature_oversampling, label_oversampling = oversampling.fit_sample(feature_train, label_train)"
   ]
  },
  {
   "cell_type": "code",
   "execution_count": 18,
   "metadata": {},
   "outputs": [
    {
     "data": {
      "image/png": "[encoded data removed]",
      "text/plain": [
       "<matplotlib.figure.Figure at 0x7f5e6ffc3c50>"
      ]
     },
     "metadata": {},
     "output_type": "display_data"
    },
    {
     "data": {
      "image/png": "[encoded data removed]",
      "text/plain": [
       "<matplotlib.figure.Figure at 0x7f5e6ffd8470>"
      ]
     },
     "metadata": {},
     "output_type": "display_data"
    },
    {
     "data": {
      "image/png": "[encoded data removed]",
      "text/plain": [
       "<matplotlib.figure.Figure at 0x7f5e700ede80>"
      ]
     },
     "metadata": {},
     "output_type": "display_data"
    }
   ],
   "source": [
    "# Generate ROC curves with different classifiers\n",
    "imb.compare_roc(LogisticRegression(), 'AUC of Logistic Classifier', \n",
    "                figure_directory + 'roc_logistic.png', feature_train, \n",
    "                feature_test, feature_oversampling, label_train, label_test, \n",
    "                label_oversampling)\n",
    "\n",
    "imb.compare_roc(tree.DecisionTreeClassifier(), 'AUC of Decision Tree Classifier', \n",
    "                figure_directory + 'roc_decision_tree.png', feature_train, \n",
    "                feature_test, feature_oversampling, label_train, label_test, \n",
    "                label_oversampling)\n",
    "\n",
    "imb.compare_roc(KNeighborsClassifier(n_neighbors=5), 'AUC of KNN Classifier', \n",
    "                figure_directory + 'roc_knn.png', feature_train, feature_test, \n",
    "                feature_oversampling, label_train, label_test, label_oversampling)"
   ]
  },
  {
   "cell_type": "markdown",
   "metadata": {},
   "source": [
    "# Classification Task"
   ]
  },
  {
   "cell_type": "code",
   "execution_count": 19,
   "metadata": {},
   "outputs": [
    {
     "name": "stdout",
     "output_type": "stream",
     "text": [
      "Number of columns: 10\n"
     ]
    }
   ],
   "source": [
    "# Data preparation\n",
    "columns = ['issuercountrycode', 'txvariantcode', 'amount', 'currencycode', \n",
    "           'shoppercountrycode', 'shopperinteraction', 'cardverificationcodesupplied', \n",
    "           'cvcresponsecode', 'accountcode', 'simple_journal']\n",
    "subset = data_set[columns]\n",
    "print(\"Number of columns: {}\".format(len(subset.columns)))\n",
    "\n",
    "subset.loc[subset.simple_journal == 'Chargeback', 'simple_journal'] = 1\n",
    "subset.loc[subset.simple_journal == 'Settled', 'simple_journal'] = 0\n",
    "subset['simple_journal'] = subset['simple_journal'].astype('int')"
   ]
  },
  {
   "cell_type": "code",
   "execution_count": 20,
   "metadata": {},
   "outputs": [],
   "source": [
    "# Determine label and input feature\n",
    "label = subset.simple_journal\n",
    "\n",
    "feature = subset.drop('simple_journal', axis=1)\n",
    "feature = pd.get_dummies(feature)"
   ]
  },
  {
   "cell_type": "markdown",
   "metadata": {},
   "source": [
    "## Black-box classifier"
   ]
  },
  {
   "cell_type": "code",
   "execution_count": 21,
   "metadata": {},
   "outputs": [
    {
     "name": "stdout",
     "output_type": "stream",
     "text": [
      "True positives\t: 18\n",
      "False positives\t: 868\n",
      "True negatives\t: 21448\n",
      "False negatives\t: 17\n",
      "\n",
      "Accuracy\t: 0.960\n",
      "Sensitivity\t: 0.502\n",
      "Specificity\t: 0.961\n",
      "Precision\t: 0.020\n",
      "F-measure\t: 0.038\n",
      "AUC\t\t: 0.928\n"
     ]
    }
   ],
   "source": [
    "# Set algorithm\n",
    "algorithm = LogisticRegression()\n",
    "\n",
    "# Evaluate using cross-validation\n",
    "tp, fp, tn, fn, auc = cls.cross_validation(algorithm, feature, label, 10)\n",
    "cls.evaluation_result(tp, fp, tn, fn, auc)"
   ]
  },
  {
   "cell_type": "markdown",
   "metadata": {},
   "source": [
    "## White-box classifier"
   ]
  },
  {
   "cell_type": "code",
   "execution_count": 22,
   "metadata": {},
   "outputs": [
    {
     "name": "stdout",
     "output_type": "stream",
     "text": [
      "True positives\t: 5\n",
      "False positives\t: 159\n",
      "True negatives\t: 22158\n",
      "False negatives\t: 29\n",
      "\n",
      "Accuracy\t: 0.992\n",
      "Sensitivity\t: 0.153\n",
      "Specificity\t: 0.993\n",
      "Precision\t: 0.031\n",
      "F-measure\t: 0.052\n",
      "AUC\t\t: 0.670\n"
     ]
    }
   ],
   "source": [
    "# Set algorithm\n",
    "algorithm = tree.DecisionTreeClassifier()\n",
    "\n",
    "# Evaluate using cross-validation\n",
    "tp, fp, tn, fn, auc = cls.cross_validation(algorithm, feature, label, 10)\n",
    "cls.evaluation_result(tp, fp, tn, fn, auc)"
   ]
  },
  {
   "cell_type": "code",
   "execution_count": 23,
   "metadata": {},
   "outputs": [
    {
     "data": {
      "text/plain": [
       "0"
      ]
     },
     "execution_count": 23,
     "metadata": {},
     "output_type": "execute_result"
    }
   ],
   "source": [
    "# Visualize the white-box\n",
    "algorithm.fit(feature, label)\n",
    "tree.export_graphviz(algorithm, out_file=dot_file, max_depth=3)\n",
    "check_call(['dot', '-Tpng', dot_file, '-o', figure_white_box])\n",
    "# limit the depth for pretty visualization"
   ]
  },
  {
   "cell_type": "markdown",
   "metadata": {},
   "source": [
    "![title](figure/tree.png)"
   ]
  }
 ],
 "metadata": {
  "kernelspec": {
   "display_name": "Python 3",
   "language": "python",
   "name": "python3"
  },
  "language_info": {
   "codemirror_mode": {
    "name": "ipython",
    "version": 3
   },
   "file_extension": ".py",
   "mimetype": "text/x-python",
   "name": "python",
   "nbconvert_exporter": "python",
   "pygments_lexer": "ipython3",
   "version": "3.5.2"
  }
 },
 "nbformat": 4,
 "nbformat_minor": 2
}
